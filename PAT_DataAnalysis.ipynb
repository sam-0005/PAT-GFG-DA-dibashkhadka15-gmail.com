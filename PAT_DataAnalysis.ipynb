{
 "cells": [
  {
   "cell_type": "code",
   "execution_count": 1,
   "metadata": {},
   "outputs": [
    {
     "data": {
      "text/html": [
       "<div>\n",
       "<style scoped>\n",
       "    .dataframe tbody tr th:only-of-type {\n",
       "        vertical-align: middle;\n",
       "    }\n",
       "\n",
       "    .dataframe tbody tr th {\n",
       "        vertical-align: top;\n",
       "    }\n",
       "\n",
       "    .dataframe thead th {\n",
       "        text-align: right;\n",
       "    }\n",
       "</style>\n",
       "<table border=\"1\" class=\"dataframe\">\n",
       "  <thead>\n",
       "    <tr style=\"text-align: right;\">\n",
       "      <th></th>\n",
       "      <th>product_name</th>\n",
       "      <th>brand_name</th>\n",
       "      <th>rating</th>\n",
       "      <th>rating_count</th>\n",
       "      <th>marked_price</th>\n",
       "      <th>discounted_price</th>\n",
       "      <th>sizes</th>\n",
       "      <th>product_link</th>\n",
       "      <th>img_link</th>\n",
       "      <th>product_tag</th>\n",
       "      <th>brand_tag</th>\n",
       "      <th>discount_amount</th>\n",
       "      <th>discount_percent</th>\n",
       "    </tr>\n",
       "  </thead>\n",
       "  <tbody>\n",
       "    <tr>\n",
       "      <th>0</th>\n",
       "      <td>Croc Textured Two Fold Wallet</td>\n",
       "      <td>Lino Perros</td>\n",
       "      <td>0.0</td>\n",
       "      <td>0</td>\n",
       "      <td>1295</td>\n",
       "      <td>828</td>\n",
       "      <td>Onesize</td>\n",
       "      <td>wallets/lino-perros/lino-perros-women-peach-co...</td>\n",
       "      <td>https://assets.myntassets.com/dpr_2,q_60,w_210...</td>\n",
       "      <td>wallets</td>\n",
       "      <td>lino-perros</td>\n",
       "      <td>467</td>\n",
       "      <td>36</td>\n",
       "    </tr>\n",
       "    <tr>\n",
       "      <th>1</th>\n",
       "      <td>Men Striped Sliders</td>\n",
       "      <td>Mast &amp; Harbour</td>\n",
       "      <td>4.0</td>\n",
       "      <td>76</td>\n",
       "      <td>1299</td>\n",
       "      <td>584</td>\n",
       "      <td>UK6,UK7,UK8,UK9,UK10,UK11</td>\n",
       "      <td>flip-flops/mast--harbour/mast--harbour-men-nav...</td>\n",
       "      <td>https://assets.myntassets.com/dpr_2,q_60,w_210...</td>\n",
       "      <td>flip-flops</td>\n",
       "      <td>mast--harbour</td>\n",
       "      <td>715</td>\n",
       "      <td>55</td>\n",
       "    </tr>\n",
       "    <tr>\n",
       "      <th>2</th>\n",
       "      <td>Printed A-line Kurta</td>\n",
       "      <td>Biba</td>\n",
       "      <td>4.3</td>\n",
       "      <td>66</td>\n",
       "      <td>1999</td>\n",
       "      <td>1599</td>\n",
       "      <td>S,M,L,XL,XXL,3XL</td>\n",
       "      <td>kurtas/biba/biba-women-off-white--black-printe...</td>\n",
       "      <td>https://assets.myntassets.com/dpr_2,q_60,w_210...</td>\n",
       "      <td>kurtas</td>\n",
       "      <td>biba</td>\n",
       "      <td>400</td>\n",
       "      <td>20</td>\n",
       "    </tr>\n",
       "    <tr>\n",
       "      <th>3</th>\n",
       "      <td>Girls Floral Printed T-shirt</td>\n",
       "      <td>Anthrilo</td>\n",
       "      <td>0.0</td>\n",
       "      <td>0</td>\n",
       "      <td>599</td>\n",
       "      <td>539</td>\n",
       "      <td>7-8Y,8-9Y,9-10Y</td>\n",
       "      <td>tshirts/anthrilo/anthrilo-girls-white-floral-p...</td>\n",
       "      <td>https://assets.myntassets.com/dpr_2,q_60,w_210...</td>\n",
       "      <td>tshirts</td>\n",
       "      <td>anthrilo</td>\n",
       "      <td>60</td>\n",
       "      <td>10</td>\n",
       "    </tr>\n",
       "    <tr>\n",
       "      <th>4</th>\n",
       "      <td>Women Printed Kurta with Skirt</td>\n",
       "      <td>FASHION DWAR</td>\n",
       "      <td>0.0</td>\n",
       "      <td>0</td>\n",
       "      <td>2899</td>\n",
       "      <td>2899</td>\n",
       "      <td>S,M,L,XL</td>\n",
       "      <td>kurta-sets/fashion-dwar/fashion-dwar-women-mul...</td>\n",
       "      <td>https://assets.myntassets.com/dpr_2,q_60,w_210...</td>\n",
       "      <td>kurta-sets</td>\n",
       "      <td>fashion-dwar</td>\n",
       "      <td>0</td>\n",
       "      <td>0</td>\n",
       "    </tr>\n",
       "  </tbody>\n",
       "</table>\n",
       "</div>"
      ],
      "text/plain": [
       "                     product_name      brand_name  rating  rating_count  \\\n",
       "0   Croc Textured Two Fold Wallet     Lino Perros     0.0             0   \n",
       "1             Men Striped Sliders  Mast & Harbour     4.0            76   \n",
       "2            Printed A-line Kurta            Biba     4.3            66   \n",
       "3    Girls Floral Printed T-shirt        Anthrilo     0.0             0   \n",
       "4  Women Printed Kurta with Skirt    FASHION DWAR     0.0             0   \n",
       "\n",
       "   marked_price  discounted_price                      sizes  \\\n",
       "0          1295               828                    Onesize   \n",
       "1          1299               584  UK6,UK7,UK8,UK9,UK10,UK11   \n",
       "2          1999              1599           S,M,L,XL,XXL,3XL   \n",
       "3           599               539            7-8Y,8-9Y,9-10Y   \n",
       "4          2899              2899                   S,M,L,XL   \n",
       "\n",
       "                                        product_link  \\\n",
       "0  wallets/lino-perros/lino-perros-women-peach-co...   \n",
       "1  flip-flops/mast--harbour/mast--harbour-men-nav...   \n",
       "2  kurtas/biba/biba-women-off-white--black-printe...   \n",
       "3  tshirts/anthrilo/anthrilo-girls-white-floral-p...   \n",
       "4  kurta-sets/fashion-dwar/fashion-dwar-women-mul...   \n",
       "\n",
       "                                            img_link product_tag  \\\n",
       "0  https://assets.myntassets.com/dpr_2,q_60,w_210...     wallets   \n",
       "1  https://assets.myntassets.com/dpr_2,q_60,w_210...  flip-flops   \n",
       "2  https://assets.myntassets.com/dpr_2,q_60,w_210...      kurtas   \n",
       "3  https://assets.myntassets.com/dpr_2,q_60,w_210...     tshirts   \n",
       "4  https://assets.myntassets.com/dpr_2,q_60,w_210...  kurta-sets   \n",
       "\n",
       "       brand_tag  discount_amount  discount_percent  \n",
       "0    lino-perros              467                36  \n",
       "1  mast--harbour              715                55  \n",
       "2           biba              400                20  \n",
       "3       anthrilo               60                10  \n",
       "4   fashion-dwar                0                 0  "
      ]
     },
     "execution_count": 1,
     "metadata": {},
     "output_type": "execute_result"
    }
   ],
   "source": [
    "#inporting all modules\n",
    "import numpy as np\n",
    "import pandas as pd\n",
    "import seaborn as sns\n",
    "import matplotlib.pyplot as plt\n",
    "\n",
    "df = pd.read_csv('data.csv')\n",
    "df.head()"
   ]
  },
  {
   "cell_type": "code",
   "execution_count": 2,
   "metadata": {},
   "outputs": [
    {
     "data": {
      "text/plain": [
       "Index(['product_name', 'brand_name', 'rating', 'rating_count', 'marked_price',\n",
       "       'discounted_price', 'sizes', 'product_link', 'img_link', 'product_tag',\n",
       "       'brand_tag', 'discount_amount', 'discount_percent'],\n",
       "      dtype='object')"
      ]
     },
     "execution_count": 2,
     "metadata": {},
     "output_type": "execute_result"
    }
   ],
   "source": [
    "df.columns"
   ]
  },
  {
   "cell_type": "code",
   "execution_count": 3,
   "metadata": {},
   "outputs": [
    {
     "data": {
      "text/plain": [
       "<bound method Series.count of 0              Croc Textured Two Fold Wallet\n",
       "1                        Men Striped Sliders\n",
       "2                       Printed A-line Kurta\n",
       "3               Girls Floral Printed T-shirt\n",
       "4             Women Printed Kurta with Skirt\n",
       "                         ...                \n",
       "168024            Ethnic Motifs Kaftan Dress\n",
       "168025    Leather Wedge Sandals with Tassels\n",
       "168026                   Leather Wedge Pumps\n",
       "168027        V015 Professional Hair Trimmer\n",
       "168028                  Women Open Toe Flats\n",
       "Name: product_name, Length: 168029, dtype: object>"
      ]
     },
     "execution_count": 3,
     "metadata": {},
     "output_type": "execute_result"
    }
   ],
   "source": [
    "df['product_name'].count"
   ]
  },
  {
   "cell_type": "code",
   "execution_count": 4,
   "metadata": {},
   "outputs": [
    {
     "data": {
      "text/plain": [
       "'https://myntra.com/wallets/lino-perros/lino-perros-women-peach-coloured-croc-textured-two-fold-wallet/18070682/buy'"
      ]
     },
     "execution_count": 4,
     "metadata": {},
     "output_type": "execute_result"
    }
   ],
   "source": [
    "a='https://myntra.com/'+df['product_link'][0]\n",
    "a"
   ]
  },
  {
   "cell_type": "markdown",
   "metadata": {},
   "source": [
    "18070682 is the product id available on website which is available on link so we have to extract id from link"
   ]
  },
  {
   "cell_type": "code",
   "execution_count": 5,
   "metadata": {},
   "outputs": [
    {
     "data": {
      "text/plain": [
       "'18070682'"
      ]
     },
     "execution_count": 5,
     "metadata": {},
     "output_type": "execute_result"
    }
   ],
   "source": [
    "c=df['product_link'][0].split('/')[-2]\n",
    "c"
   ]
  },
  {
   "cell_type": "code",
   "execution_count": 6,
   "metadata": {},
   "outputs": [],
   "source": [
    "df['product_id']= 0"
   ]
  },
  {
   "cell_type": "code",
   "execution_count": 7,
   "metadata": {},
   "outputs": [
    {
     "name": "stderr",
     "output_type": "stream",
     "text": [
      "<ipython-input-7-e7d82418ac9a>:4: SettingWithCopyWarning: \n",
      "A value is trying to be set on a copy of a slice from a DataFrame\n",
      "\n",
      "See the caveats in the documentation: https://pandas.pydata.org/pandas-docs/stable/user_guide/indexing.html#returning-a-view-versus-a-copy\n",
      "  df['product_id'][i]=df['product_link'][i].split('/')[-2]\n"
     ]
    }
   ],
   "source": [
    "# we already found the number of column\n",
    "count=list(range(168027))\n",
    "for i in count:\n",
    "    df['product_id'][i]=df['product_link'][i].split('/')[-2]\n",
    "    "
   ]
  },
  {
   "cell_type": "code",
   "execution_count": 8,
   "metadata": {},
   "outputs": [
    {
     "data": {
      "text/plain": [
       "0         18070682\n",
       "1         12548958\n",
       "2         13446092\n",
       "3         18017006\n",
       "4         18015232\n",
       "            ...   \n",
       "168024    18245896\n",
       "168025    18713222\n",
       "168026    18713224\n",
       "168027           0\n",
       "168028           0\n",
       "Name: product_id, Length: 168029, dtype: int64"
      ]
     },
     "execution_count": 8,
     "metadata": {},
     "output_type": "execute_result"
    }
   ],
   "source": [
    "df['product_id']"
   ]
  },
  {
   "cell_type": "markdown",
   "metadata": {},
   "source": [
    "# 1. How many unique products are there in the dataset? (5 marks)\n",
    "You need to find product ID of each product from product_link and then find the number of unique product ids\n",
    "\n",
    "Finding Unique Products as per their Product ID\n",
    "\n",
    "Removing Products with Duplicate Product ID"
   ]
  },
  {
   "cell_type": "code",
   "execution_count": 9,
   "metadata": {},
   "outputs": [
    {
     "data": {
      "text/plain": [
       "146436"
      ]
     },
     "execution_count": 9,
     "metadata": {},
     "output_type": "execute_result"
    }
   ],
   "source": [
    "# finding unique product per id\n",
    "product_id=df['product_id']\n",
    "uni_product=product_id.nunique()\n",
    "uni_product"
   ]
  },
  {
   "cell_type": "code",
   "execution_count": 10,
   "metadata": {},
   "outputs": [
    {
     "data": {
      "text/plain": [
       "146436"
      ]
     },
     "execution_count": 10,
     "metadata": {},
     "output_type": "execute_result"
    }
   ],
   "source": [
    "df1=df.drop_duplicates(subset=['product_id'])\n",
    "product_id_drop=df1['product_id']\n",
    "uni_product_drop=product_id_drop.nunique()\n",
    "uni_product_drop"
   ]
  },
  {
   "cell_type": "markdown",
   "metadata": {},
   "source": [
    "# 2. What is the average rating of the products? (2 mark)\n",
    "Try it without the product that are having rating 0\n",
    "\n",
    "Try it without the product that are having 0 people given any rating"
   ]
  },
  {
   "cell_type": "code",
   "execution_count": 11,
   "metadata": {},
   "outputs": [],
   "source": [
    "#       avg_rating=df[df['rating']!=0.0].mean()\n"
   ]
  },
  {
   "cell_type": "markdown",
   "metadata": {},
   "source": [
    "# 3. What is the average discount percentage of the products?"
   ]
  },
  {
   "cell_type": "code",
   "execution_count": 12,
   "metadata": {},
   "outputs": [
    {
     "data": {
      "text/plain": [
       "1515.1687565836849"
      ]
     },
     "execution_count": 12,
     "metadata": {},
     "output_type": "execute_result"
    }
   ],
   "source": [
    "avg_disc_price=df['discounted_price'].mean()\n",
    "avg_disc_price"
   ]
  },
  {
   "cell_type": "markdown",
   "metadata": {},
   "source": [
    "# 4. What are the top 5 most expensive products? (2 marks)\n",
    "Make sure that there can be multiple brands with same name so you can take brand ID also into considration"
   ]
  },
  {
   "cell_type": "code",
   "execution_count": 13,
   "metadata": {},
   "outputs": [],
   "source": [
    "group_df=df.groupby('brand_name').apply(lambda x: x.sort_values(['marked_price'],ascending=False))\n"
   ]
  },
  {
   "cell_type": "code",
   "execution_count": 14,
   "metadata": {},
   "outputs": [
    {
     "data": {
      "text/plain": [
       "27039                                Lord Krishna Showpiece\n",
       "56197                           Durga Maa On Lion Showpiece\n",
       "117817    Men Stainless Steel Straps Multi Function Auto...\n",
       "117809    Men Stainless Steel Straps Multi Function Auto...\n",
       "116473    Men Stainless Steel Straps Multi Function Auto...\n",
       "Name: product_name, dtype: object"
      ]
     },
     "execution_count": 14,
     "metadata": {},
     "output_type": "execute_result"
    }
   ],
   "source": [
    "df2=df.sort_values(['marked_price'],ascending=False)\n",
    "df2['product_name'].head(5)"
   ]
  },
  {
   "cell_type": "markdown",
   "metadata": {},
   "source": [
    "# 5. What are the top 10 brands by the number of products in the dataset?"
   ]
  },
  {
   "cell_type": "code",
   "execution_count": 15,
   "metadata": {},
   "outputs": [
    {
     "data": {
      "text/plain": [
       "brand_name\n",
       "Roadster                 4982\n",
       "Mast & Harbour           2640\n",
       "DressBerry               2330\n",
       "H&M                      2188\n",
       "max                      2045\n",
       "Anouk                    1962\n",
       "HRX by Hrithik Roshan    1922\n",
       "HERE&NOW                 1816\n",
       "Puma                     1805\n",
       "MANGO                    1741\n",
       "Name: product_id, dtype: int64"
      ]
     },
     "execution_count": 15,
     "metadata": {},
     "output_type": "execute_result"
    }
   ],
   "source": [
    " count_of_brand=df.groupby(\"brand_name\")[\"product_id\"].count()\n",
    "\n",
    "sorted_counts=count_of_brand.sort_values(ascending=False)\n",
    "\n",
    "sorted_counts.head(10)"
   ]
  },
  {
   "cell_type": "markdown",
   "metadata": {},
   "source": [
    "# 6.List top 5 brands with maxiumum average rating of products? (2 marks)\n",
    "Neglect the products which are not reviewed by any person"
   ]
  },
  {
   "cell_type": "code",
   "execution_count": 16,
   "metadata": {},
   "outputs": [
    {
     "data": {
      "text/plain": [
       "brand_name\n",
       "1 Stop Fashion               5.0\n",
       "Pasabahce                    5.0\n",
       "Joseph Joseph                5.0\n",
       "Pro-Ethic STYLE DEVELOPER    5.0\n",
       "BEAUTY GLAZED                5.0\n",
       "Ozone Ayurvedics             5.0\n",
       "MILDCARES                    5.0\n",
       "TIC TAC TOE                  4.9\n",
       "NISRAG HOME                  4.9\n",
       "Bodycare First               4.9\n",
       "Name: rating, dtype: float64"
      ]
     },
     "execution_count": 16,
     "metadata": {},
     "output_type": "execute_result"
    }
   ],
   "source": [
    "df5=df[df['rating'].notna()]\n",
    "\n",
    "brand_rating=df.groupby('brand_name')['rating'].mean()\n",
    "\n",
    "top_5_brand=brand_rating.sort_values(ascending=False).head(10)\n",
    "\n",
    "top_5_brand"
   ]
  },
  {
   "cell_type": "markdown",
   "metadata": {},
   "source": [
    "\n",
    "\n",
    "# 7. Plot a histogram of the distribution of ratings of following brand. (3 marks)\n",
    "H&M     \n",
    "max     \n",
    "Puma    \n",
    "MANGO     \n",
    "Neglect the products which are not reviewed by any person"
   ]
  },
  {
   "cell_type": "code",
   "execution_count": 17,
   "metadata": {},
   "outputs": [],
   "source": [
    "df7=df\n",
    "HM_ratings=df7[df[\"brand_name\"]=='H&M']['rating']\n",
    "max_ratings=df7[df[\"brand_name\"]=='max']['rating']\n",
    "Puma_ratings=df7[df[\"brand_name\"]=='Puma']['rating']\n",
    "MANGO_ratings=df7[df[\"brand_name\"]=='MANGO']['rating']"
   ]
  },
  {
   "cell_type": "code",
   "execution_count": 18,
   "metadata": {},
   "outputs": [
    {
     "data": {
      "image/png": "[encoded data removed]",
      "text/plain": [
       "<Figure size 432x288 with 1 Axes>"
      ]
     },
     "metadata": {
      "needs_background": "light"
     },
     "output_type": "display_data"
    }
   ],
   "source": [
    "plt.hist(HM_ratings, bins=10, alpha=0.3, label='H&M')\n",
    "plt.xlabel('RATING')\n",
    "plt.ylabel('Frequency')\n",
    "plt.legend()\n",
    "plt.show()"
   ]
  },
  {
   "cell_type": "code",
   "execution_count": 19,
   "metadata": {},
   "outputs": [
    {
     "data": {
      "image/png": "[encoded data removed]",
      "text/plain": [
       "<Figure size 432x288 with 1 Axes>"
      ]
     },
     "metadata": {
      "needs_background": "light"
     },
     "output_type": "display_data"
    }
   ],
   "source": [
    "plt.hist(max_ratings, bins=10, alpha=0.3, label='max')\n",
    "plt.xlabel('RATING')\n",
    "plt.ylabel('Frequency')\n",
    "plt.legend()\n",
    "plt.show()"
   ]
  },
  {
   "cell_type": "code",
   "execution_count": 20,
   "metadata": {},
   "outputs": [
    {
     "data": {
      "image/png": "[encoded data removed]",
      "text/plain": [
       "<Figure size 432x288 with 1 Axes>"
      ]
     },
     "metadata": {
      "needs_background": "light"
     },
     "output_type": "display_data"
    }
   ],
   "source": [
    "plt.hist(Puma_ratings, bins=10, alpha=0.3, label='Puma')\n",
    "plt.xlabel('RATING')\n",
    "plt.ylabel('Frequency')\n",
    "plt.legend()\n",
    "plt.show()\n"
   ]
  },
  {
   "cell_type": "code",
   "execution_count": 21,
   "metadata": {},
   "outputs": [
    {
     "data": {
      "image/png": "[encoded data removed]",
      "text/plain": [
       "<Figure size 432x288 with 1 Axes>"
      ]
     },
     "metadata": {
      "needs_background": "light"
     },
     "output_type": "display_data"
    }
   ],
   "source": [
    "plt.hist(MANGO_ratings, bins=10, alpha=0.3, label='MANGO')\n",
    "plt.xlabel('RATING')\n",
    "plt.ylabel('Frequency')\n",
    "plt.legend()\n",
    "plt.show()"
   ]
  },
  {
   "cell_type": "markdown",
   "metadata": {},
   "source": [
    "# 8. What is the distribution of discounts by brand for specific brands mentioned below? (2 marks)\n",
    "H&M\n",
    "max\n",
    "Puma\n",
    "MANGO\n",
    "Neglect the products which are not reviewed by any person. Neglect the products which are not on any discount."
   ]
  },
  {
   "cell_type": "code",
   "execution_count": 22,
   "metadata": {},
   "outputs": [],
   "source": [
    "brands=['H&M','max','Puma','MANGO']\n",
    "df8=df[df['brand_name'].isin(brands)]\n",
    "\n",
    "discount_counts=df8.groupby('brand_name')['discount_percent'].count()"
   ]
  },
  {
   "cell_type": "code",
   "execution_count": 23,
   "metadata": {},
   "outputs": [
    {
     "data": {
      "text/plain": [
       "brand_name\n",
       "H&M       1.935558\n",
       "MANGO    15.074670\n",
       "Puma     37.194460\n",
       "max       0.797066\n",
       "Name: discount_percent, dtype: float64"
      ]
     },
     "execution_count": 23,
     "metadata": {},
     "output_type": "execute_result"
    }
   ],
   "source": [
    "discount_percent=df8.groupby('brand_name')['discount_percent'].mean()\n",
    "\n",
    "discount_percent"
   ]
  },
  {
   "cell_type": "markdown",
   "metadata": {},
   "source": [
    "# 9. Is there any trend or pattern you can find between discount percent and rating of the product? (3 marks)# "
   ]
  },
  {
   "cell_type": "code",
   "execution_count": 24,
   "metadata": {},
   "outputs": [
    {
     "data": {
      "text/plain": [
       "<function matplotlib.pyplot.show(*args, **kw)>"
      ]
     },
     "execution_count": 24,
     "metadata": {},
     "output_type": "execute_result"
    },
    {
     "data": {
      "image/png": "[encoded data removed]",
      "text/plain": [
       "<Figure size 432x288 with 1 Axes>"
      ]
     },
     "metadata": {
      "needs_background": "light"
     },
     "output_type": "display_data"
    }
   ],
   "source": [
    "sns.lineplot(data=df,x='discount_percent',y='rating')\n",
    "plt.show"
   ]
  },
  {
   "cell_type": "markdown",
   "metadata": {},
   "source": [
    "larger discount have higher rating and  at 20 and 90 percent its showing unsual diff"
   ]
  },
  {
   "cell_type": "markdown",
   "metadata": {},
   "source": [
    "# 10. What are the top 10 most popular tags in the dataset? (2 marks)"
   ]
  },
  {
   "cell_type": "code",
   "execution_count": 25,
   "metadata": {},
   "outputs": [
    {
     "data": {
      "text/plain": [
       "tshirts         16978\n",
       "shirts          12044\n",
       "dresses         11836\n",
       "tops             9049\n",
       "kurta-sets       8170\n",
       "kurtas           8043\n",
       "jeans            7669\n",
       "trousers         5756\n",
       "casual-shoes     5230\n",
       "handbags         4944\n",
       "Name: product_tag, dtype: int64"
      ]
     },
     "execution_count": 25,
     "metadata": {},
     "output_type": "execute_result"
    }
   ],
   "source": [
    "df['product_tag'].value_counts().head(10)"
   ]
  },
  {
   "cell_type": "code",
   "execution_count": 26,
   "metadata": {},
   "outputs": [
    {
     "data": {
      "text/plain": [
       "roadster                 4982\n",
       "mast--harbour            2640\n",
       "dressberry               2330\n",
       "hm                       2188\n",
       "max                      2045\n",
       "anouk                    1962\n",
       "hrx-by-hrithik-roshan    1922\n",
       "herenow                  1816\n",
       "puma                     1805\n",
       "mango                    1741\n",
       "Name: brand_tag, dtype: int64"
      ]
     },
     "execution_count": 26,
     "metadata": {},
     "output_type": "execute_result"
    }
   ],
   "source": [
    "df['brand_tag'].value_counts().head(10)"
   ]
  },
  {
   "cell_type": "markdown",
   "metadata": {},
   "source": [
    "# 11. Are there any relations between the rating and number of people who rated the products? (4 marks)\n",
    "Neglect the products that are not reviewed by any person\n",
    "\n",
    "Neglect the products that are having zero rating"
   ]
  },
  {
   "cell_type": "code",
   "execution_count": null,
   "metadata": {},
   "outputs": [],
   "source": []
  },
  {
   "cell_type": "code",
   "execution_count": null,
   "metadata": {},
   "outputs": [],
   "source": []
  },
  {
   "cell_type": "markdown",
   "metadata": {},
   "source": [
    "# 12. What are the top 10 Most Expensive brands? (3 marks)\n",
    "Use marked price as the reference to find the most expensive brand"
   ]
  },
  {
   "cell_type": "code",
   "execution_count": 27,
   "metadata": {},
   "outputs": [
    {
     "data": {
      "text/plain": [
       "brand_name\n",
       "EARNSHAW                 47603.846154\n",
       "Victorinox               44000.000000\n",
       "MOSCHINO COUTURE         40000.000000\n",
       "dyson                    39233.333333\n",
       "Tom Ford                 38800.000000\n",
       "Valuchi                  38050.000000\n",
       "Bottega Veneta           34490.000000\n",
       "Versace Jeans Couture    33125.000000\n",
       "TISSOT                   31928.571429\n",
       "DUCATI CORSE             31665.666667\n",
       "Name: marked_price, dtype: float64"
      ]
     },
     "execution_count": 27,
     "metadata": {},
     "output_type": "execute_result"
    }
   ],
   "source": [
    "brand_price=df.groupby('brand_name')['marked_price'].mean()\n",
    "\n",
    "top_5_brand=brand_price.sort_values(ascending=False).head(10)\n",
    "\n",
    "top_5_brand"
   ]
  },
  {
   "cell_type": "markdown",
   "metadata": {},
   "source": [
    "# 13. What are the top 10 Most Expensive Product Category? (4 marks)\n",
    "Use marked price as the reference to find the most expensive brand# "
   ]
  },
  {
   "cell_type": "code",
   "execution_count": 28,
   "metadata": {},
   "outputs": [
    {
     "data": {
      "text/plain": [
       "product_name\n",
       "Lord Krishna Showpiece                                              113999.000000\n",
       "Durga Maa On Lion Showpiece                                          71999.000000\n",
       "Men Stainless Steel Straps Multi Function Automatic Motion Watch     57200.000000\n",
       "Men Stainless Steel Straps Automatic Motion Watch                    46077.222222\n",
       "Men Leather Straps Multi Function Automatic Motion Watch             45825.000000\n",
       "Airwrap Complete Hair Styler                                         44900.000000\n",
       "Men Brass Dial & Automatic Watch                                     44500.000000\n",
       "Mid-Rise Stretchable Jeans                                           41000.000000\n",
       "Printed Carpets                                                      40350.000000\n",
       "Men Regular Fit Cotton Jeans                                         39000.000000\n",
       "Name: marked_price, dtype: float64"
      ]
     },
     "execution_count": 28,
     "metadata": {},
     "output_type": "execute_result"
    }
   ],
   "source": [
    "product_price=df.groupby('product_name')['marked_price'].mean()\n",
    "\n",
    "top_5_product=product_price.sort_values(ascending=False).head(10)\n",
    "\n",
    "top_5_product"
   ]
  },
  {
   "cell_type": "code",
   "execution_count": null,
   "metadata": {},
   "outputs": [],
   "source": []
  },
  {
   "cell_type": "markdown",
   "metadata": {},
   "source": [
    "# 14. Analyse the Violen Plot of watches of following brands mentioned below ? (5 marks)\n",
    "Take Marked Price for Reference\n",
    "\n",
    "Take product_tag as watches\n",
    "\n",
    "Take brand_tag as tommy-hilfiger, daniel-wellington, armani-exchange, emporio-armani, earnshaw, tissot\n",
    "\n",
    "Make sure to write your inference based on the violen plot of following watch brands price"
   ]
  },
  {
   "cell_type": "code",
   "execution_count": 29,
   "metadata": {},
   "outputs": [],
   "source": [
    "df14=df[df['product_tag']== \"watches\"] \n",
    "\n",
    "brands=['tommy-hilfiger', 'daniel-wellington', 'armani-exchange','emporio-armani', 'earnshaw', 'tissot']\n",
    "df14=df14[df14['brand_tag'].isin(brands)]"
   ]
  },
  {
   "cell_type": "code",
   "execution_count": 30,
   "metadata": {},
   "outputs": [
    {
     "data": {
      "image/png": "[encoded data removed]",
      "text/plain": [
       "<Figure size 432x288 with 1 Axes>"
      ]
     },
     "metadata": {
      "needs_background": "light"
     },
     "output_type": "display_data"
    }
   ],
   "source": [
    "sns.violinplot(x='brand_tag',y='marked_price',data=df14)\n",
    "plt.show()"
   ]
  },
  {
   "cell_type": "markdown",
   "metadata": {},
   "source": [
    "# 15. List top 5 brands which are having most wide range or products\n",
    "Use marked price as the reference"
   ]
  },
  {
   "cell_type": "code",
   "execution_count": 31,
   "metadata": {},
   "outputs": [
    {
     "data": {
      "text/plain": [
       "brand_name\n",
       "Roadster      1595\n",
       "H&M           1571\n",
       "MANGO         1145\n",
       "Puma          1101\n",
       "DressBerry    1061\n",
       "Name: product_name, dtype: int64"
      ]
     },
     "execution_count": 31,
     "metadata": {},
     "output_type": "execute_result"
    }
   ],
   "source": [
    "sort_brand_counts=df.groupby('brand_name')['product_name'].nunique().sort_values(ascending=False)\n",
    "\n",
    "sort_brand_counts.head(5)"
   ]
  },
  {
   "cell_type": "code",
   "execution_count": null,
   "metadata": {},
   "outputs": [],
   "source": []
  }
 ],
 "metadata": {
  "kernelspec": {
   "display_name": "Python 3",
   "language": "python",
   "name": "python3"
  },
  "language_info": {
   "codemirror_mode": {
    "name": "ipython",
    "version": 3
   },
   "file_extension": ".py",
   "mimetype": "text/x-python",
   "name": "python",
   "nbconvert_exporter": "python",
   "pygments_lexer": "ipython3",
   "version": "3.8.3"
  }
 },
 "nbformat": 4,
 "nbformat_minor": 4
}
